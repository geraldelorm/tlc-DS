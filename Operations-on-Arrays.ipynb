{
 "cells": [
  {
   "cell_type": "code",
   "execution_count": 65,
   "id": "73889ee8",
   "metadata": {},
   "outputs": [
    {
     "name": "stdout",
     "output_type": "stream",
     "text": [
      "[['115.800003' '116.330002' '114.760002' '116.150002' '113.013916'\n",
      "  '28781900']\n",
      " ['115.849998' '116.510002' '115.750000' '116.019997' '112.887413'\n",
      "  '21118100']\n",
      " ['115.919998' '116.860001' '115.809998' '116.610001' '113.461502'\n",
      "  '22193600']\n",
      " ...\n",
      " ['170.100006' '170.779999' '169.710007' '170.600006' '168.663101'\n",
      "  '21498200']\n",
      " ['171.000000' '171.850006' '170.479996' '171.080002' '169.137650'\n",
      "  '16480200']\n",
      " ['170.520004' '170.589996' '169.220001' '169.229996' '167.308640'\n",
      "  '25884400']]\n",
      "[['2016-01-04' '102.610001' '105.370003' ... '105.349998' '100.274513'\n",
      "  '67649400']\n",
      " ['2016-01-05' '105.750000' '105.849998' ... '102.709999' '97.761681'\n",
      "  '55791000']\n",
      " ['2016-01-06' '100.559998' '102.370003' ... '100.699997' '95.848511'\n",
      "  '68457400']\n",
      " ...\n",
      " ['2016-12-23' '115.589996' '116.519997' ... '116.519997' '113.373917'\n",
      "  '14249500']\n",
      " ['2016-12-27' '116.519997' '117.800003' ... '117.260002' '114.093948'\n",
      "  '18296900']\n",
      " ['2016-12-28' '117.519997' '118.019997' ... '116.760002' '113.607445'\n",
      "  '20905900']]\n",
      "(250, 7)\n",
      "250\n",
      "(250, 6)\n"
     ]
    }
   ],
   "source": [
    "import numpy as np\n",
    "import csv\n",
    "\n",
    "with open('AAPL-2017.csv', newline='') as f:\n",
    "    reader = csv.DictReader(f)\n",
    "    data = np.empty((0,6), dtype=np.float64)\n",
    "    for row in reader:\n",
    "        oneRow = np.array([[row['Open'], row['High'], row['Low'], row['Close'], row['Adj Close'], row['Volume']]])\n",
    "        data = np.append(data,oneRow,axis=0)\n",
    "\n",
    "print(data)\n",
    "\n",
    "\n",
    "\n",
    "with open('AAPL-2016.csv', newline='') as f:\n",
    "    reader = csv.DictReader(f)\n",
    "    data2 = np.empty((0,7), dtype=float)\n",
    "    for row in reader:\n",
    "        oneRow = np.array([[row['Date'], row['Open'], row['High'], row['Low'], row['Close'], row['Adj Close'], row['Volume']]])\n",
    "        data2 = np.append(data2,oneRow,axis=0)\n",
    "\n",
    "print(data2)\n",
    "\n",
    "print(data2.shape)\n",
    "\n",
    "row2, col2 = data2.shape\n",
    "print(row2)\n",
    "\n",
    "\n",
    "#trim longest data which is data1\n",
    "newData = data[:row2]\n",
    "print(newData.shape)"
   ]
  },
  {
   "cell_type": "code",
   "execution_count": 28,
   "id": "76a322e4",
   "metadata": {},
   "outputs": [
    {
     "name": "stdout",
     "output_type": "stream",
     "text": [
      "[['105.370003' '102.000000' '105.349998' '100.274513' '67649400']\n",
      " ['105.849998' '102.410004' '102.709999' '97.761681' '55791000']\n",
      " ['102.370003' '99.870003' '100.699997' '95.848511' '68457400']\n",
      " ...\n",
      " ['116.519997' '115.589996' '116.519997' '113.373917' '14249500']\n",
      " ['117.800003' '116.489998' '117.260002' '114.093948' '18296900']\n",
      " ['118.019997' '116.199997' '116.760002' '113.607445' '20905900']]\n"
     ]
    },
    {
     "data": {
      "text/plain": [
       "(250, 5)"
      ]
     },
     "execution_count": 28,
     "metadata": {},
     "output_type": "execute_result"
    }
   ],
   "source": [
    "#delete some rows\n",
    "removedData = np.delete(data2, 0, axis=0)\n",
    "\n",
    "print(removedData)\n",
    "removedData.shape"
   ]
  },
  {
   "cell_type": "code",
   "execution_count": 79,
   "id": "ed2a36ef",
   "metadata": {},
   "outputs": [
    {
     "name": "stdout",
     "output_type": "stream",
     "text": [
      "[3.77616700e+04 3.80029200e+04 3.75214001e+04 3.77883199e+04\n",
      " 3.71010567e+04 6.81042620e+09]\n",
      "6810614375.36681\n"
     ]
    }
   ],
   "source": [
    "##sum \n",
    "new = data.astype(np.float64)\n",
    "\n",
    "# print(new)\n",
    "\n",
    "print(new.sum(axis=0))\n",
    "\n",
    "\n",
    "print(data.astype(np.float64).sum())"
   ]
  },
  {
   "cell_type": "code",
   "execution_count": 83,
   "id": "af356dec",
   "metadata": {},
   "outputs": [
    {
     "data": {
      "text/plain": [
       "25885246.868637"
      ]
     },
     "execution_count": 83,
     "metadata": {},
     "output_type": "execute_result"
    }
   ],
   "source": [
    "##volume\n",
    "new[-1].sum(axis=0)"
   ]
  },
  {
   "cell_type": "code",
   "execution_count": null,
   "id": "d532d463",
   "metadata": {},
   "outputs": [],
   "source": []
  }
 ],
 "metadata": {
  "kernelspec": {
   "display_name": "Python 3 (ipykernel)",
   "language": "python",
   "name": "python3"
  },
  "language_info": {
   "codemirror_mode": {
    "name": "ipython",
    "version": 3
   },
   "file_extension": ".py",
   "mimetype": "text/x-python",
   "name": "python",
   "nbconvert_exporter": "python",
   "pygments_lexer": "ipython3",
   "version": "3.8.8"
  }
 },
 "nbformat": 4,
 "nbformat_minor": 5
}
