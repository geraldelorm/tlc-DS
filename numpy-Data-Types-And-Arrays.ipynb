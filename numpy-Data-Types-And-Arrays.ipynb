{
 "cells": [
  {
   "cell_type": "code",
   "execution_count": 44,
   "id": "e8a07dab",
   "metadata": {
    "scrolled": true
   },
   "outputs": [
    {
     "name": "stdout",
     "output_type": "stream",
     "text": [
      "[['115.800003' '116.330002' '114.760002' '116.150002' '113.013916'\n",
      "  '28781900']\n",
      " ['115.849998' '116.510002' '115.750000' '116.019997' '112.887413'\n",
      "  '21118100']\n",
      " ['115.919998' '116.860001' '115.809998' '116.610001' '113.461502'\n",
      "  '22193600']\n",
      " ...\n",
      " ['170.100006' '170.779999' '169.710007' '170.600006' '168.663101'\n",
      "  '21498200']\n",
      " ['171.000000' '171.850006' '170.479996' '171.080002' '169.137650'\n",
      "  '16480200']\n",
      " ['170.520004' '170.589996' '169.220001' '169.229996' '167.308640'\n",
      "  '25884400']]\n",
      "2\n",
      "(251, 6)\n"
     ]
    }
   ],
   "source": [
    "import numpy as np\n",
    "import csv\n",
    "\n",
    "with open('AAPL-2017.csv', newline='') as f:\n",
    "    reader = csv.DictReader(f)\n",
    "    data = np.empty((0,6), dtype=float)\n",
    "    for row in reader:\n",
    "        oneRow = np.array([[row['Open'], row['High'], row['Low'], row['Close'], row['Adj Close'], row['Volume']]])\n",
    "        data = np.append(data,oneRow,axis=0)\n",
    "\n",
    "print(data)\n",
    "print(np.ndim(data))\n",
    "print(np.shape(data))\n"
   ]
  },
  {
   "cell_type": "code",
   "execution_count": 45,
   "id": "99115809",
   "metadata": {},
   "outputs": [],
   "source": [
    "a5 = np.arange(0.5, 5.8, 0.5, int)"
   ]
  },
  {
   "cell_type": "code",
   "execution_count": null,
   "id": "7c5acb49",
   "metadata": {},
   "outputs": [],
   "source": []
  }
 ],
 "metadata": {
  "kernelspec": {
   "display_name": "Python 3 (ipykernel)",
   "language": "python",
   "name": "python3"
  },
  "language_info": {
   "codemirror_mode": {
    "name": "ipython",
    "version": 3
   },
   "file_extension": ".py",
   "mimetype": "text/x-python",
   "name": "python",
   "nbconvert_exporter": "python",
   "pygments_lexer": "ipython3",
   "version": "3.8.8"
  }
 },
 "nbformat": 4,
 "nbformat_minor": 5
}
